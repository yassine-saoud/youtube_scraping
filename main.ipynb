{
 "cells": [
  {
   "cell_type": "code",
   "execution_count": 3,
   "metadata": {},
   "outputs": [],
   "source": [
    "from selenium import webdriver\n",
    "from webdriver_manager.chrome import ChromeDriverManager\n",
    "import undetected_chromedriver as uc\n",
    "from time import sleep\n",
    "from selenium.webdriver.common.keys import Keys\n",
    "from selenium.common.exceptions import NoSuchElementException \n",
    "import pandas as pd\n",
    "from selenium.webdriver.common.by import By\n",
    "import re"
   ]
  },
  {
   "cell_type": "markdown",
   "metadata": {},
   "source": [
    "chargement de la page youtube + pas de détection comme étant rebot"
   ]
  },
  {
   "cell_type": "code",
   "execution_count": 10,
   "metadata": {},
   "outputs": [],
   "source": [
    "if __name__ == \"__main__\":\n",
    "    options = webdriver.ChromeOptions()\n",
    "    options.add_argument('proxy-server=106.122.8.54:3128')\n",
    "    browser = uc.Chrome(\n",
    "        options=options,\n",
    "    )\n",
    "    browser.get(\"https://www.youtube.com/@SkyNews/videos\")\n",
    "    sleep(2)   "
   ]
  },
  {
   "cell_type": "markdown",
   "metadata": {},
   "source": [
    "la fonction scroll"
   ]
  },
  {
   "cell_type": "code",
   "execution_count": 25,
   "metadata": {},
   "outputs": [],
   "source": [
    "def scroll():\n",
    "    while(True):\n",
    "        height = browser.execute_script(\"return document.body.scrollHeight\")\n",
    "        sleep(1)\n",
    "        browser.find_element_by_tag_name('body').send_keys(Keys.END)\n",
    "        if int(height)==0:\n",
    "            break"
   ]
  },
  {
   "cell_type": "markdown",
   "metadata": {},
   "source": [
    "répeter le scrolling jusqu'arriver au nombre voulu des video (plus de 10000) et récupérer la liste des liens"
   ]
  },
  {
   "cell_type": "code",
   "execution_count": null,
   "metadata": {},
   "outputs": [],
   "source": [
    "last_position = browser.execute_script(\"return window.pageYOffset ;\")\n",
    "while True:\n",
    "    fin = True\n",
    "    for i in range(3):\n",
    "        scroll()\n",
    "        sleep(2)\n",
    "        curr_position = browser.execute_script(\"return window.pageYOffset ;\")\n",
    "        if (curr_position!=last_position):\n",
    "            fin = False\n",
    "            break\n",
    "    l=browser.find_elements(by=By.XPATH, value='//ytd-rich-item-renderer[@class=\"style-scope ytd-rich-grid-row\"]//a[@id=\"video-title-link\"]')\n",
    "    print(len(l))\n",
    "    if fin or (len(l)>10000) :\n",
    "        links=[i.get_attribute('href') for i in l]\n",
    "        break\n",
    "    else: last_position=curr_position\n",
    "    "
   ]
  },
  {
   "cell_type": "code",
   "execution_count": 2,
   "metadata": {},
   "outputs": [
    {
     "data": {
      "text/plain": [
       "10020"
      ]
     },
     "execution_count": 2,
     "metadata": {},
     "output_type": "execute_result"
    }
   ],
   "source": [
    "len(links)"
   ]
  },
  {
   "cell_type": "markdown",
   "metadata": {},
   "source": [
    "chargement de chaque video et récupération des informations souhaitées"
   ]
  },
  {
   "cell_type": "code",
   "execution_count": null,
   "metadata": {},
   "outputs": [],
   "source": [
    "titles,durées,vues,dates_pub,likes,shares,chaine = [],[],[],[],[],[],[]\n",
    "for link in links[8000:]:\n",
    "    browser.get(link)\n",
    "    sleep(3)\n",
    "    try:\n",
    "        titles.append(browser.find_element(by=By.XPATH, value='//div[@id=\"title\"]/h1/yt-formatted-string').text)\n",
    "        likes.append(browser.find_element(by=By.XPATH, value='//div[@id=\"segmented-like-button\"]/ytd-toggle-button-renderer/yt-button-shape/button/div[2]/span').text)\n",
    "        vues.append(browser.find_element(by=By.XPATH, value='//yt-formatted-string[@id=\"info\"]/span[1]').text)\n",
    "        dates_pub.append(browser.find_element(by=By.XPATH, value='//yt-formatted-string[@id=\"info\"]/span[3]').text)\n",
    "        durées.append(browser.find_element(by=By.XPATH, value='//div[@class=\"ytp-time-display notranslate\"]//span[@class=\"ytp-time-duration\"]').text)\n",
    "        chaine.append(browser.find_elements(by=By.XPATH, value='//ytd-channel-name[@id=\"channel-name\"]//a')[0].text)\n",
    "        try:\n",
    "            shares.append(browser.find_element(by=By.XPATH, value='//h2[@id=\"count\"]/yt-formatted-string/span[1]').text)\n",
    "        except:\n",
    "            sleep(1)\n",
    "            try:\n",
    "                shares.append(browser.find_element(by=By.XPATH, value='//h2[@id=\"count\"]/yt-formatted-string/span[1]').text)\n",
    "            except:\n",
    "                shares.append('')\n",
    "    except : continue"
   ]
  },
  {
   "cell_type": "markdown",
   "metadata": {},
   "source": [
    "data pre-processing"
   ]
  },
  {
   "cell_type": "code",
   "execution_count": null,
   "metadata": {},
   "outputs": [],
   "source": [
    "df_final=pd.DataFrame({\"title\":titles , \"chaine\":chaine , \"vues\":vues,   \"likes\":likes , \"comments\":shares  , \"durée\":durées , \"date_publication\":dates_pub , \"link\":links})\n",
    "df_final[\"durée\"] =df_final['durée'].apply(lambda x: None if x == '' else x)\n",
    "df_final[\"title\"] =df_final['title'].apply(lambda x: None if x == '' else x)\n",
    "df_final[\"vues\"] =df_final['vues'].apply(lambda x: None if x == '' else x)\n",
    "df_final[\"date_publication\"] =df_final['date_publication'].apply(lambda x: None if x == '' else x)\n",
    "df_final[\"chaine\"] =df_final['chaine'].apply(lambda x: None if x == '' else x)\n",
    "df_final[\"likes\"] =df_final['likes'].apply(lambda x: None if x == '' else x)\n",
    "df_final[\"comments\"] =df_final['comments'].apply(lambda x: None if x == '' else x)"
   ]
  },
  {
   "cell_type": "code",
   "execution_count": 15,
   "metadata": {},
   "outputs": [
    {
     "data": {
      "text/plain": [
       "(9627, 8)"
      ]
     },
     "execution_count": 15,
     "metadata": {},
     "output_type": "execute_result"
    }
   ],
   "source": [
    "df_final.shape"
   ]
  },
  {
   "cell_type": "code",
   "execution_count": 7,
   "metadata": {},
   "outputs": [],
   "source": [
    "df_finale=df_final"
   ]
  },
  {
   "cell_type": "code",
   "execution_count": 6,
   "metadata": {},
   "outputs": [
    {
     "data": {
      "text/plain": [
       "(7134, 8)"
      ]
     },
     "execution_count": 6,
     "metadata": {},
     "output_type": "execute_result"
    }
   ],
   "source": [
    "df_final.shape"
   ]
  },
  {
   "cell_type": "code",
   "execution_count": 14,
   "metadata": {},
   "outputs": [],
   "source": [
    "df_final.to_csv(\"res.csv\")"
   ]
  }
 ],
 "metadata": {
  "interpreter": {
   "hash": "bf18297ba29ab59974e3cde921359bf4732846305eb0ebd212cf3897d725727a"
  },
  "kernelspec": {
   "display_name": "Python 3.9.10 64-bit",
   "language": "python",
   "name": "python3"
  },
  "language_info": {
   "codemirror_mode": {
    "name": "ipython",
    "version": 3
   },
   "file_extension": ".py",
   "mimetype": "text/x-python",
   "name": "python",
   "nbconvert_exporter": "python",
   "pygments_lexer": "ipython3",
   "version": "3.9.10"
  },
  "orig_nbformat": 4
 },
 "nbformat": 4,
 "nbformat_minor": 2
}
